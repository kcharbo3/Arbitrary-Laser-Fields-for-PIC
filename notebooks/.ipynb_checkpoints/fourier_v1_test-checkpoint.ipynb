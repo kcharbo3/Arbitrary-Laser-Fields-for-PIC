{
 "cells": [
  {
   "cell_type": "code",
   "execution_count": 4,
   "id": "8412d7e5",
   "metadata": {},
   "outputs": [
    {
     "ename": "ModuleNotFoundError",
     "evalue": "No module named 'fourier_prop_v1'",
     "output_type": "error",
     "traceback": [
      "\u001b[0;31m---------------------------------------------------------------------------\u001b[0m",
      "\u001b[0;31mModuleNotFoundError\u001b[0m                       Traceback (most recent call last)",
      "\u001b[0;32m/var/folders/wn/_6l261dd6ssfsqpqmfrs1n0w0000gn/T/ipykernel_14312/3770689988.py\u001b[0m in \u001b[0;36m<module>\u001b[0;34m\u001b[0m\n\u001b[1;32m      7\u001b[0m \u001b[0;31m#sys.path.append('/Users/kylecharbonnet/code/UCI/barty-personal/fourier_prop_v1/propagator')\u001b[0m\u001b[0;34m\u001b[0m\u001b[0;34m\u001b[0m\u001b[0m\n\u001b[1;32m      8\u001b[0m \u001b[0;34m\u001b[0m\u001b[0m\n\u001b[0;32m----> 9\u001b[0;31m \u001b[0;32mfrom\u001b[0m \u001b[0mfourier_prop_v1\u001b[0m \u001b[0;32mimport\u001b[0m \u001b[0mlaser_input\u001b[0m\u001b[0;34m\u001b[0m\u001b[0;34m\u001b[0m\u001b[0m\n\u001b[0m\u001b[1;32m     10\u001b[0m \u001b[0;31m#import fourier_prop_v1.laser_input.laser_input as laser_input\u001b[0m\u001b[0;34m\u001b[0m\u001b[0;34m\u001b[0m\u001b[0m\n\u001b[1;32m     11\u001b[0m \u001b[0;31m#import fourier_prop_v1.propagator as propagator\u001b[0m\u001b[0;34m\u001b[0m\u001b[0;34m\u001b[0m\u001b[0m\n",
      "\u001b[0;31mModuleNotFoundError\u001b[0m: No module named 'fourier_prop_v1'"
     ]
    }
   ],
   "source": [
    "import matplotlib.pyplot as plt\n",
    "import numpy as np\n",
    "\n",
    "import sys\n",
    "sys.path.insert(0, \"../fourier_prop_v1\")\n",
    "#sys.path.append('/Users/kylecharbonnet/code/UCI/barty-personal/fourier_prop_v1/laser_input')\n",
    "#sys.path.append('/Users/kylecharbonnet/code/UCI/barty-personal/fourier_prop_v1/propagator')\n",
    "\n",
    "from fourier_prop_v1 import laser_input\n",
    "#import fourier_prop_v1.laser_input.laser_input as laser_input\n",
    "#import fourier_prop_v1.propagator as propagator\n"
   ]
  },
  {
   "cell_type": "code",
   "execution_count": 2,
   "id": "54a41808",
   "metadata": {},
   "outputs": [
    {
     "ename": "AttributeError",
     "evalue": "module 'fourier_prop_v1.laser_input' has no attribute 'get_input_field'",
     "output_type": "error",
     "traceback": [
      "\u001b[0;31m---------------------------------------------------------------------------\u001b[0m",
      "\u001b[0;31mAttributeError\u001b[0m                            Traceback (most recent call last)",
      "\u001b[0;32m/var/folders/wn/_6l261dd6ssfsqpqmfrs1n0w0000gn/T/ipykernel_14266/442966536.py\u001b[0m in \u001b[0;36m<module>\u001b[0;34m\u001b[0m\n\u001b[0;32m----> 1\u001b[0;31m \u001b[0minput_field\u001b[0m \u001b[0;34m=\u001b[0m \u001b[0mlaser_input\u001b[0m\u001b[0;34m.\u001b[0m\u001b[0mget_input_field\u001b[0m\u001b[0;34m(\u001b[0m\u001b[0;34m)\u001b[0m\u001b[0;34m\u001b[0m\u001b[0;34m\u001b[0m\u001b[0m\n\u001b[0m",
      "\u001b[0;31mAttributeError\u001b[0m: module 'fourier_prop_v1.laser_input' has no attribute 'get_input_field'"
     ]
    }
   ],
   "source": [
    "input_field = laser_input.get_input_field()"
   ]
  },
  {
   "cell_type": "code",
   "execution_count": 23,
   "id": "f9be9847",
   "metadata": {},
   "outputs": [],
   "source": [
    "input_field.generate_input_Ew_field(req_low_mem = True)"
   ]
  },
  {
   "cell_type": "code",
   "execution_count": 24,
   "id": "820981a6",
   "metadata": {},
   "outputs": [
    {
     "name": "stdout",
     "output_type": "stream",
     "text": [
      "256\n",
      "0j\n",
      "167\n"
     ]
    },
    {
     "data": {
      "text/plain": [
       "<matplotlib.image.AxesImage at 0x7fca2068b070>"
      ]
     },
     "execution_count": 24,
     "metadata": {},
     "output_type": "execute_result"
    },
    {
     "data": {
      "image/png": "[encoded data removed]",
      "text/plain": [
       "<Figure size 640x480 with 1 Axes>"
      ]
     },
     "metadata": {},
     "output_type": "display_data"
    }
   ],
   "source": [
    "\n",
    "print(len(input_field.input_Ew_field))\n",
    "tester = input_field.input_Ew_field[0, :, :]\n",
    "print(tester.max())\n",
    "index_of_omega0 = np.argmin(np.abs(input_field.prop.omegas - input_field.laser.omega0))\n",
    "print(index_of_omega0)\n",
    "plt.imshow(input_field.input_Ew_field[167, :, :].real, interpolation = \"None\")"
   ]
  },
  {
   "cell_type": "code",
   "execution_count": 25,
   "id": "aeb2b261",
   "metadata": {},
   "outputs": [
    {
     "ename": "AttributeError",
     "evalue": "module 'propagator' has no attribute 'generate_output_Ew_field'",
     "output_type": "error",
     "traceback": [
      "\u001b[0;31m---------------------------------------------------------------------------\u001b[0m",
      "\u001b[0;31mAttributeError\u001b[0m                            Traceback (most recent call last)",
      "\u001b[0;32m/var/folders/wn/_6l261dd6ssfsqpqmfrs1n0w0000gn/T/ipykernel_13930/2051246669.py\u001b[0m in \u001b[0;36m<module>\u001b[0;34m\u001b[0m\n\u001b[0;32m----> 1\u001b[0;31m \u001b[0mpropagator\u001b[0m\u001b[0;34m.\u001b[0m\u001b[0mgenerate_output_Ew_field\u001b[0m\u001b[0;34m(\u001b[0m\u001b[0minput_field\u001b[0m\u001b[0;34m)\u001b[0m\u001b[0;34m\u001b[0m\u001b[0;34m\u001b[0m\u001b[0m\n\u001b[0m",
      "\u001b[0;31mAttributeError\u001b[0m: module 'propagator' has no attribute 'generate_output_Ew_field'"
     ]
    }
   ],
   "source": [
    "propagator.generate_output_Ew_field(input_field)"
   ]
  },
  {
   "cell_type": "code",
   "execution_count": null,
   "id": "0403bd00",
   "metadata": {},
   "outputs": [],
   "source": []
  }
 ],
 "metadata": {
  "kernelspec": {
   "display_name": "Python 3 (ipykernel)",
   "language": "python",
   "name": "python3"
  },
  "language_info": {
   "codemirror_mode": {
    "name": "ipython",
    "version": 3
   },
   "file_extension": ".py",
   "mimetype": "text/x-python",
   "name": "python",
   "nbconvert_exporter": "python",
   "pygments_lexer": "ipython3",
   "version": "3.9.13"
  }
 },
 "nbformat": 4,
 "nbformat_minor": 5
}
